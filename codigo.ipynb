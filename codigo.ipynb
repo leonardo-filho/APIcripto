{
 "cells": [
  {
   "cell_type": "code",
   "execution_count": 5,
   "metadata": {},
   "outputs": [
    {
     "name": "stdout",
     "output_type": "stream",
     "text": [
      "Dados do CSV:\n",
      "         data      coin  location  current_price_usd  current_price_eur  \\\n",
      "0  01-08-2024   bitcoin   Bitcoin       64679.778647       59750.920795   \n",
      "1  01-08-2024  ethereum  Ethereum        3233.076805        2986.703420   \n",
      "2  01-08-2024    solana    Solana         171.973991         158.868885   \n",
      "3  02-08-2024   bitcoin   Bitcoin       65357.529608       60586.103159   \n",
      "4  02-08-2024  ethereum  Ethereum        3204.246524        2970.320506   \n",
      "\n",
      "   current_price_brl  market_cap_usd  market_cap_eur  market_cap_brl  \\\n",
      "0      365964.720243    1.275401e+12    1.178510e+12    7.216350e+12   \n",
      "1       18293.075103    3.886338e+11    3.591097e+11    2.198929e+12   \n",
      "2         973.046212    7.995061e+10    7.387685e+10    4.523687e+11   \n",
      "3      375943.046056    1.289157e+12    1.194838e+12    7.415360e+12   \n",
      "4       18431.146429    3.853402e+11    3.571475e+11    2.216515e+12   \n",
      "\n",
      "   total_volume_usd  total_volume_eur  total_volume_brl  \n",
      "0      3.140368e+10      2.901060e+10      1.776852e+11  \n",
      "1      1.614342e+10      1.491323e+10      9.134110e+10  \n",
      "2      3.584555e+09      3.311398e+09      2.028178e+10  \n",
      "3      3.891130e+10      3.607058e+10      2.238217e+11  \n",
      "4      1.778641e+10      1.648792e+10      1.023092e+11  \n",
      "Dados do SQLite:\n",
      "         data      coin  location current_price_usd current_price_eur  \\\n",
      "0  01-08-2024   bitcoin   Bitcoin         $64679.78         €59750.92   \n",
      "1  01-08-2024  ethereum  Ethereum          $3233.08          €2986.70   \n",
      "2  01-08-2024    solana    Solana           $171.97           €158.87   \n",
      "3  02-08-2024   bitcoin   Bitcoin         $65357.53         €60586.10   \n",
      "4  02-08-2024  ethereum  Ethereum          $3204.25          €2970.32   \n",
      "\n",
      "  current_price_brl     market_cap_usd     market_cap_eur      market_cap_brl  \\\n",
      "0       R$365964.72  $1275401473742.05  €1178510499183.34  R$7216350353981.36   \n",
      "1        R$18293.08   $388633791826.87   €359109671295.57  R$2198929246169.41   \n",
      "2          R$973.05    $79950614578.10    €73876846339.22   R$452368652294.96   \n",
      "3       R$375943.05  $1289157073527.53  €1194838474557.04  R$7415360402637.69   \n",
      "4        R$18431.15   $385340171208.76   €357147528262.61  R$2216515198809.89   \n",
      "\n",
      "  total_volume_usd total_volume_eur   total_volume_brl  \n",
      "0  $31403681581.19  €29010595429.98  R$177685202158.24  \n",
      "1  $16143420325.48  €14913227122.99   R$91341102687.01  \n",
      "2   $3584555338.84   €3311397883.80   R$20281776147.22  \n",
      "3  $38911302447.61  €36070582812.42  R$223821702808.89  \n",
      "4  $17786413332.13  €16487916226.82  R$102309228127.74  \n"
     ]
    }
   ],
   "source": [
    "import pandas as pd\n",
    "import sqlite3\n",
    "\n",
    "# Carregar o arquivo CSV gerado pelo main.py\n",
    "csv_file_path = r\"C:\\Users\\leron\\OneDrive\\Área de Trabalho\\ec10\\gold_data\\cryptocurrency_data.csv\"\n",
    "df_csv = pd.read_csv(csv_file_path)\n",
    "print(\"Dados do CSV:\")\n",
    "print(df_csv.head())\n",
    "\n",
    "# Conectar ao banco de dados SQLite gerado pelo main.py\n",
    "sqlite_db_path = r\"C:\\Users\\leron\\OneDrive\\Área de Trabalho\\ec10\\gold_data\\cryptocurrency_data.db\"\n",
    "conn = sqlite3.connect(sqlite_db_path)\n",
    "df_sqlite = pd.read_sql(\"SELECT * FROM cryptocurrency_data\", conn)\n",
    "conn.close()\n",
    "print(\"Dados do SQLite:\")\n",
    "print(df_sqlite.head())"
   ]
  },
  {
   "cell_type": "code",
   "execution_count": 8,
   "metadata": {},
   "outputs": [
    {
     "name": "stdout",
     "output_type": "stream",
     "text": [
      "Dados para a data 15-09-2024:\n",
      "         data      coin  location current_price_usd current_price_eur  \\\n",
      "0  15-09-2024   bitcoin   Bitcoin         $60003.30         €54142.36   \n",
      "1  15-09-2024  ethereum  Ethereum          $2418.08          €2181.89   \n",
      "2  15-09-2024    solana    Solana           $137.18           €123.78   \n",
      "\n",
      "  current_price_brl     market_cap_usd     market_cap_eur      market_cap_brl  \\\n",
      "0       R$333928.98  $1185255944124.85  €1069483699270.56  R$6596159119356.88   \n",
      "1        R$13457.06   $290912717943.82   €262497236393.22  R$1618980766908.43   \n",
      "2          R$763.45    $64231025021.07    €57957131190.09   R$357457023133.68   \n",
      "\n",
      "  total_volume_usd total_volume_eur  total_volume_brl  \n",
      "0  $15800120841.17  €14256812437.76  R$87930469102.48  \n",
      "1   $7248493705.27   €6540482585.62  R$40339150453.21  \n",
      "2   $1141559407.44   €1030055309.20   R$6352980158.45  \n"
     ]
    }
   ],
   "source": [
    "import pandas as pd\n",
    "import sqlite3\n",
    "\n",
    "sqlite_db_path = r\"C:\\Users\\leron\\OneDrive\\Área de Trabalho\\ec10\\gold_data\\cryptocurrency_data.db\"\n",
    "\n",
    "conn = sqlite3.connect(sqlite_db_path)\n",
    "\n",
    "data_especifica = \"15-09-2024\"\n",
    "\n",
    "query = f\"\"\"\n",
    "SELECT * FROM cryptocurrency_data\n",
    "WHERE data = '{data_especifica}'\n",
    "\"\"\"\n",
    "\n",
    "df_data_especifica = pd.read_sql(query, conn)\n",
    "\n",
    "conn.close()\n",
    "\n",
    "print(f\"Dados para a data {data_especifica}:\")\n",
    "print(df_data_especifica)\n"
   ]
  }
 ],
 "metadata": {
  "kernelspec": {
   "display_name": "Python 3",
   "language": "python",
   "name": "python3"
  },
  "language_info": {
   "codemirror_mode": {
    "name": "ipython",
    "version": 3
   },
   "file_extension": ".py",
   "mimetype": "text/x-python",
   "name": "python",
   "nbconvert_exporter": "python",
   "pygments_lexer": "ipython3",
   "version": "3.9.undefined"
  }
 },
 "nbformat": 4,
 "nbformat_minor": 2
}
